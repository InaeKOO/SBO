{
 "cells": [
  {
   "cell_type": "markdown",
   "id": "1597c295",
   "metadata": {},
   "source": [
    "# Example: SBO for H$_2$ VQE\n",
    "\n",
    "Notebook modeled after https://qiskit.org/documentation/nature/tutorials/03_ground_state_solvers.html.\n",
    "\n",
    "NOTE: This notebook requires PySCF. See https://pyscf.org/install.html for details."
   ]
  },
  {
   "cell_type": "code",
   "execution_count": 1,
   "id": "0a46f827",
   "metadata": {},
   "outputs": [],
   "source": [
    "import sbovqaopt\n",
    "\n",
    "import matplotlib.pyplot as plt\n",
    "import numpy as np\n",
    "\n",
    "from qiskit import Aer\n",
    "from qiskit.algorithms import NumPyMinimumEigensolver\n",
    "from qiskit.algorithms.optimizers import SPSA\n",
    "from qiskit.utils import QuantumInstance\n",
    "from qiskit_nature.algorithms import GroundStateEigensolver, MinimumEigensolverFactory, VQEUCCFactory\n",
    "from qiskit_nature.drivers import UnitsType, Molecule\n",
    "from qiskit_nature.drivers.second_quantization import ElectronicStructureDriverType\n",
    "from qiskit_nature.drivers.second_quantization import ElectronicStructureMoleculeDriver\n",
    "from qiskit_nature.problems.second_quantization import ElectronicStructureProblem\n",
    "from qiskit_nature.converters.second_quantization import QubitConverter\n",
    "from qiskit_nature.mappers.second_quantization import JordanWignerMapper"
   ]
  },
  {
   "cell_type": "code",
   "execution_count": 2,
   "id": "41b315db",
   "metadata": {},
   "outputs": [
    {
     "name": "stdout",
     "output_type": "stream",
     "text": [
      "Distance: 0.200, SBO: 0.187946, SPSA: 2.014428, Exact Result: 0.157482\n",
      "Distance: 0.250, SBO: -0.297275, SPSA: 1.447413, Exact Result: -0.312270\n",
      "Distance: 0.300, SBO: -0.596331, SPSA: 0.770110, Exact Result: -0.601804\n",
      "Distance: 0.350, SBO: -0.764369, SPSA: 0.801700, Exact Result: -0.789269\n",
      "Distance: 0.400, SBO: -0.893476, SPSA: 0.299017, Exact Result: -0.914150\n",
      "Distance: 0.450, SBO: -0.983395, SPSA: 0.276021, Exact Result: -0.998416\n",
      "Distance: 0.500, SBO: -1.035785, SPSA: -0.140821, Exact Result: -1.055160\n",
      "Distance: 0.550, SBO: -1.079132, SPSA: -0.089214, Exact Result: -1.092630\n",
      "Distance: 0.600, SBO: -1.119878, SPSA: -0.266154, Exact Result: -1.116286\n",
      "Distance: 0.650, SBO: -1.131653, SPSA: -0.237041, Exact Result: -1.129905\n",
      "Distance: 0.700, SBO: -1.115995, SPSA: -0.503991, Exact Result: -1.136189\n",
      "Distance: 0.750, SBO: -1.130520, SPSA: -0.724075, Exact Result: -1.137117\n",
      "Distance: 0.800, SBO: -1.125553, SPSA: -0.532140, Exact Result: -1.134148\n",
      "Distance: 0.850, SBO: -1.116461, SPSA: -0.711920, Exact Result: -1.128362\n",
      "Distance: 0.900, SBO: -1.116538, SPSA: -0.799380, Exact Result: -1.120560\n",
      "Distance: 0.950, SBO: -1.096836, SPSA: -0.900250, Exact Result: -1.111339\n",
      "Distance: 1.000, SBO: -1.104911, SPSA: -0.767509, Exact Result: -1.101150\n",
      "Distance: 1.050, SBO: -1.077916, SPSA: -0.950507, Exact Result: -1.090342\n",
      "Distance: 1.100, SBO: -1.072756, SPSA: -0.841641, Exact Result: -1.079193\n",
      "Distance: 1.150, SBO: -1.055357, SPSA: -0.866941, Exact Result: -1.067930\n",
      "Distance: 1.200, SBO: -1.045288, SPSA: -0.982681, Exact Result: -1.056741\n",
      "Distance: 1.250, SBO: -1.033127, SPSA: -0.940094, Exact Result: -1.045783\n",
      "Distance: 1.300, SBO: -1.015656, SPSA: -0.994143, Exact Result: -1.035186\n",
      "Distance: 1.350, SBO: -1.006383, SPSA: -0.986081, Exact Result: -1.025054\n",
      "Distance: 1.400, SBO: -0.996287, SPSA: -0.985775, Exact Result: -1.015468\n",
      "Distance: 1.450, SBO: -0.976601, SPSA: -0.965788, Exact Result: -1.006487\n"
     ]
    }
   ],
   "source": [
    "def ideal_backend(nshots):\n",
    "    # construct an ideal simulator with only quantum shot noise\n",
    "    return QuantumInstance(\n",
    "        backend=Aer.get_backend(\"qasm_simulator\"), \n",
    "        shots=nshots)\n",
    "\n",
    "distances = np.arange(0.2, 1.5, 0.05)   # true ground state ~0.735\n",
    "exact_energies = {}\n",
    "vqe_sbo_energies = {}\n",
    "vqe_spsa_energies = {}\n",
    "\n",
    "nshots = 100\n",
    "repetition_count = 5\n",
    "\n",
    "for distance in distances:\n",
    "    exact_energies[distance] = []\n",
    "    vqe_sbo_energies[distance] = []\n",
    "    vqe_spsa_energies[distance] = []\n",
    "        \n",
    "    molecule = Molecule(\n",
    "        geometry=[[\"H\", [0.0, 0.0, 0.0]], [\"H\", [0.0, 0.0, distance]]], charge=0, multiplicity=1\n",
    "    )\n",
    "    driver = ElectronicStructureMoleculeDriver(\n",
    "        molecule, basis=\"sto3g\", driver_type=ElectronicStructureDriverType.PYSCF\n",
    "    )\n",
    "\n",
    "    es_problem = ElectronicStructureProblem(driver)\n",
    "    qubit_converter = QubitConverter(JordanWignerMapper())\n",
    "    \n",
    "    def solve(solver):\n",
    "        calc = GroundStateEigensolver(qubit_converter, solver)\n",
    "        res = calc.solve(es_problem)\n",
    "        es_result = es_problem.interpret(res.raw_result)\n",
    "        return es_result.total_energies[0]        \n",
    "    \n",
    "    for _ in range(repetition_count):\n",
    "        # Exact solver\n",
    "        numpy_solver = NumPyMinimumEigensolver()\n",
    "        exact_energies[distance].append(solve(numpy_solver))\n",
    "\n",
    "        # VQE with SBO optimizer on ideal simulator, num function evals=20\n",
    "        sbo_optimizer = sbovqaopt.optimizer.Optimizer(\n",
    "            maxiter=4,\n",
    "            patch_size=0.15,\n",
    "            npoints_per_patch=4,\n",
    "            nfev_final_avg=4\n",
    "        )\n",
    "        vqe_solver = VQEUCCFactory(\n",
    "            quantum_instance=ideal_backend(nshots=nshots),\n",
    "            optimizer=sbo_optimizer\n",
    "        )\n",
    "        vqe_sbo_energies[distance].append(solve(vqe_solver))\n",
    "\n",
    "        # VQE with SPSA optimizer on ideal simulator, num function evals=20\n",
    "        spsa_optimizer = SPSA(maxiter=10)\n",
    "        vqe_solver = VQEUCCFactory(\n",
    "            quantum_instance=ideal_backend(nshots=nshots),\n",
    "            optimizer=spsa_optimizer\n",
    "        )\n",
    "        vqe_spsa_energies[distance].append(solve(vqe_solver))\n",
    "    \n",
    "    print(f\"Distance: {distance:.3f}, \" + \n",
    "          f\"SBO: {np.mean(vqe_sbo_energies[distance]):.6f}, \" + \n",
    "          f\"SPSA: {np.mean(vqe_spsa_energies[distance]):.6f}, \" + \n",
    "          f\"Exact Result: {np.mean(exact_energies[distance]):.6f}\")"
   ]
  },
  {
   "cell_type": "code",
   "execution_count": 3,
   "id": "65770e59",
   "metadata": {},
   "outputs": [
    {
     "data": {
      "image/png": "[encoded data removed]",
      "text/plain": [
       "<Figure size 504x360 with 1 Axes>"
      ]
     },
     "metadata": {
      "needs_background": "light"
     },
     "output_type": "display_data"
    }
   ],
   "source": [
    "plt.figure(figsize=(7, 5))\n",
    "plt.rcParams['font.size'] = 14\n",
    "\n",
    "def plot_energies(energies, label, marker, color):\n",
    "    y = np.mean(list(energies.values()), axis=1)\n",
    "    stds = np.std(list(energies.values()), axis=1)\n",
    "    yerr = np.divide(stds, np.sqrt(len(stds)))\n",
    "    linestyle_dotted = (0, (2, 3))\n",
    "    plt.errorbar(\n",
    "        distances, y, yerr, elinewidth=1.0, capsize=3.0,\n",
    "        marker=marker, linestyle=linestyle_dotted,\n",
    "        label=label, color=color)\n",
    "\n",
    "plt.plot(distances, np.mean(list(exact_energies.values()), axis=1), 'k-', linewidth=1, label='exact')\n",
    "plot_energies(vqe_spsa_energies, f'SPSA', marker='^', color='C0')\n",
    "plot_energies(vqe_sbo_energies, f'SBO', marker='o', color='C1')\n",
    "\n",
    "plt.legend()\n",
    "plt.xlabel('interatomic distance')\n",
    "plt.ylabel('energy')\n",
    "plt.ylim(-1.3, 1.9)\n",
    "plt.title(r\"H$_2$ VQE, shot noise only, K=100\")\n",
    "plt.show()"
   ]
  }
 ],
 "metadata": {
  "kernelspec": {
   "display_name": "Python 3 (ipykernel)",
   "language": "python",
   "name": "python3"
  },
  "language_info": {
   "codemirror_mode": {
    "name": "ipython",
    "version": 3
   },
   "file_extension": ".py",
   "mimetype": "text/x-python",
   "name": "python",
   "nbconvert_exporter": "python",
   "pygments_lexer": "ipython3",
   "version": "3.9.0"
  }
 },
 "nbformat": 4,
 "nbformat_minor": 5
}
